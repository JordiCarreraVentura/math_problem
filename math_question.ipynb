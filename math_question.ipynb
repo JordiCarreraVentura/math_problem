{
 "cells": [
  {
   "cell_type": "markdown",
   "metadata": {},
   "source": [
    "# Math question\n",
    "\n",
    "> Suppose that satisfied customers recommend a product with likelihood S;\n",
    "\n",
    "> and that customers who are not satisfied (incorrectly) recommend the same product with likelihood U.\n",
    "\n",
    "> Given that the recorded recommendation rate is R, which of the following provide the best estimate of the true fraction of satisfied customers?\n",
    "\n",
    "Let's call that fraction of satisfied customers _H_, which stands for _Happy_. Given that, we can establish the following definitions:"
   ]
  },
  {
   "cell_type": "markdown",
   "metadata": {},
   "source": [
    "$R = f(recommend)\\ /\\ f(recommend  ∨ ¬recommend)$\n",
    "\n",
    "$U = p(recommend\\ |\\ ¬satisfied)$\n",
    "\n",
    "$S = p(recommend\\ |\\ satisfied)$\n",
    "\n",
    "$N = \\text{size of the population}$\n",
    "\n",
    "$H_{rec} = \\text{satisfied users who made a recommendation}$\n",
    "\n",
    "$H_{¬rec} = \\text{satisfied users who didn't make a recommendation}$\n",
    "\n"
   ]
  },
  {
   "cell_type": "markdown",
   "metadata": {},
   "source": [
    "Our goal becomes calculating _H_ in\n",
    "\n",
    "$$H = |H_{rec}| + |H_{¬rec}|$$"
   ]
  },
  {
   "cell_type": "markdown",
   "metadata": {},
   "source": [
    "Since we know the recommendation rate _R_ and it is a joint probability (as opposed to the conditional probabilities like _S_ and _U_), we can use it to estimate the total volume of instances. More specifically,\n",
    "\n",
    "1. $N R$ (_number of users times the recommendation rate_) denotes the total number of recommendations in our sample (both from satisfied and dissatisfied users).\n",
    "\n",
    "2. $H S$ denotes the number of satisfied users who did make a recommendation (probability _S_).\n",
    "\n",
    "3. $(N - H)\\ U$ denotes the number of dissatisfied users (total users _N_ minus satisfied users _H_) who made a recommendation by error (probability _U_).\n",
    "\n",
    "Combining all three definitions, we can estipulate that\n",
    "\n",
    "$$N R = (H S) + ((N - H)\\ U)$$\n",
    "\n",
    "Provided we are given N, we can use this equation to solve for _H_ (the happy users, namely, the number of them who are satisfied), because we already know S, U and R.\n",
    "\n",
    "Given the following definitions:"
   ]
  },
  {
   "cell_type": "markdown",
   "metadata": {},
   "source": [
    "$N = 100$\n",
    "\n",
    "$R = 0.4$\n",
    "\n",
    "$S = 0.7$\n",
    "\n",
    "$U = 0.05$"
   ]
  },
  {
   "cell_type": "markdown",
   "metadata": {},
   "source": [
    "then we can replace in the equation above:\n",
    "\n",
    "$N\\ 0.4 = x\\ 0.7\\ +\\ (N - x)\\ 0.05$\n",
    "\n",
    "and solve for x (_H_)\n",
    "\n",
    "$H = 53.84$\n",
    "\n",
    "We estimate `53.84` satisfied users over a population of 100, whereas the test in the cells below yields an empirical value of `52` satisfied users (line `~f(satisfied) 52.00...` at the bottom of the notebook), which approximates our original estimate within 96% Accuracy."
   ]
  },
  {
   "cell_type": "markdown",
   "metadata": {},
   "source": [
    "## Create toy dataset\n",
    "\n",
    "The code cell below defines the dependencies and function `make_events`, which will be used to generate a test sample with a population of events.\n",
    "\n",
    "For simplicity, it samples from a distribution with conditional probabilities _U_ and _S_."
   ]
  },
  {
   "cell_type": "code",
   "execution_count": 5,
   "metadata": {},
   "outputs": [],
   "source": [
    "import random\n",
    "\n",
    "from collections import Counter\n",
    "\n",
    "\n",
    "def make_events(population_size, S, U, R, silent=False):\n",
    "    \n",
    "    events = [\n",
    "        # satisfied, recommends\n",
    "        [1 if random.random() <= 0.5 else 0, 0]\n",
    "        for _ in range(population_size)\n",
    "    ]\n",
    "\n",
    "\n",
    "    for u in events:\n",
    "        sat, rec = u\n",
    "        if sat:\n",
    "            u[1] = (1 if random.random() <= S else 0)\n",
    "        else:\n",
    "            u[1] = (1 if random.random() <= U else 0)\n",
    "\n",
    "        \n",
    "    satisfied = sum([u[0] for u in events])\n",
    "    recommends = sum([u[1] for u in events])\n",
    "\n",
    "    if not silent:\n",
    "        print('make_events(): total # events', len(events))\n",
    "        print('make_events(): # satisfied subjects', satisfied)\n",
    "        print('make_events(): # subjects who recommend', recommends)\n",
    "    \n",
    "    return events, satisfied\n"
   ]
  },
  {
   "cell_type": "code",
   "execution_count": 6,
   "metadata": {},
   "outputs": [],
   "source": [
    "def apply_formula(population_size, satisfied, S, U, R, silent=False):\n",
    "\n",
    "    # R = (satisfied * S + dissatisfied * U) / population_size\n",
    "    # R = (satisfied * S + (population_size - satisfied) * U) / population_size\n",
    "    \n",
    "    R_ = ((satisfied * S) + (population_size - satisfied) * U) / population_size\n",
    "    \n",
    "    n_recommendations = ((satisfied * S) + (population_size - satisfied) * U)\n",
    "    do_not_recommend = population_size - n_recommendations\n",
    "    do_not_recommend_principled = (population_size - satisfied) * (1 - U)\n",
    "    \n",
    "    if not silent:\n",
    "        print('\\n\\n[1] f(¬recommend, satisfied ∨ ¬satisfied) =', do_not_recommend)\n",
    "        print('[2] Actual R = ', R)\n",
    "        print('[3] Estimated R\\' = ', R_)\n",
    "        #print('estimated satisfied', `satisfied` IN EQUATION)\n",
    "\n",
    "    return R_, do_not_recommend, do_not_recommend_principled\n"
   ]
  },
  {
   "cell_type": "code",
   "execution_count": 7,
   "metadata": {},
   "outputs": [
    {
     "name": "stdout",
     "output_type": "stream",
     "text": [
      "S=0.70\n",
      "R=0.40\n",
      "U=0.05\n",
      "make_events(): total # events 100\n",
      "make_events(): # satisfied subjects 52\n",
      "make_events(): # subjects who recommend 41\n",
      "\n",
      "\n",
      "Satisfied  Recommended  No.   p(sat, rec)   p(rec | sat)\n",
      "---------  -----------  ---   -----------   ------------\n",
      "0          0            45    0.45          0.94\n",
      "1          1            38    0.38          0.73\n",
      "1          0            14    0.14          0.27\n",
      "0          1            3     0.03          0.06\n",
      "\n",
      "\n",
      "[1] f(¬recommend, satisfied ∨ ¬satisfied) = 61.2\n",
      "[2] Actual R =  0.4\n",
      "[3] Estimated R' =  0.38799999999999996\n",
      "\n",
      "\n",
      "~f(¬recommend) 61.2\n",
      "~f(¬recommend, ¬satisfied) 45.599999999999994\n",
      "~f(¬recommend, satisfied) 15.600000000000009\n",
      "~f(satisfied) 52.00000000000001\n"
     ]
    }
   ],
   "source": [
    "population_size = 100\n",
    "S = 0.7\n",
    "U = 0.05\n",
    "R = 0.4\n",
    "\n",
    "print('S=%.2f\\nR=%.2f\\nU=%.2f' % (S, R, U))\n",
    "\n",
    "events, satisfied = make_events(population_size, S, U, R)\n",
    "\n",
    "counts = Counter()\n",
    "for u in events:\n",
    "    counts[tuple(u)] += 1\n",
    "    \n",
    "print('\\n\\nSatisfied  Recommended  No.   p(sat, rec)   p(rec | sat)')\n",
    "print('---------  -----------  ---   -----------   ------------')\n",
    "for u, f in counts.most_common():\n",
    "    args = (u[0], u[1], f, f / len(events), round(f / (satisfied if u[0] else len(events) - satisfied), 2))\n",
    "    print('%-10d %-12d %-5d %.2f %13.2f' % args)\n",
    "\n",
    "R_, do_not_recommend, do_not_recommend_principled = apply_formula(\n",
    "    population_size, satisfied, S, U, R\n",
    ")\n",
    "\n",
    "satisfied_dontrecommend = do_not_recommend - do_not_recommend_principled\n",
    "print('\\n\\n~f(¬recommend)', do_not_recommend)\n",
    "print('~f(¬recommend, ¬satisfied)', do_not_recommend_principled)\n",
    "print('~f(¬recommend, satisfied)', satisfied_dontrecommend)\n",
    "print('~f(satisfied)', satisfied_dontrecommend + (satisfied * S))"
   ]
  },
  {
   "cell_type": "code",
   "execution_count": null,
   "metadata": {},
   "outputs": [],
   "source": []
  }
 ],
 "metadata": {
  "kernelspec": {
   "display_name": "Python 3",
   "language": "python",
   "name": "python3"
  },
  "language_info": {
   "codemirror_mode": {
    "name": "ipython",
    "version": 3
   },
   "file_extension": ".py",
   "mimetype": "text/x-python",
   "name": "python",
   "nbconvert_exporter": "python",
   "pygments_lexer": "ipython3",
   "version": "3.7.6"
  }
 },
 "nbformat": 4,
 "nbformat_minor": 4
}
